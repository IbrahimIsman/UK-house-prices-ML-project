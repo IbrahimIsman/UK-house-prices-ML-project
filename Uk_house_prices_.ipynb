{
  "nbformat": 4,
  "nbformat_minor": 0,
  "metadata": {
    "colab": {
      "provenance": [],
      "authorship_tag": "ABX9TyMgDJWLTvhiz5ifP4etqYrA",
      "include_colab_link": true
    },
    "kernelspec": {
      "name": "python3",
      "display_name": "Python 3"
    },
    "language_info": {
      "name": "python"
    }
  },
  "cells": [
    {
      "cell_type": "markdown",
      "metadata": {
        "id": "view-in-github",
        "colab_type": "text"
      },
      "source": [
        "<a href=\"https://colab.research.google.com/github/IbrahimIsman/UK-house-prices-ML-project/blob/main/Uk_house_prices_.ipynb\" target=\"_parent\"><img src=\"https://colab.research.google.com/assets/colab-badge.svg\" alt=\"Open In Colab\"/></a>"
      ]
    },
    {
      "cell_type": "code",
      "execution_count": null,
      "metadata": {
        "id": "AAVo1apkKkwO"
      },
      "outputs": [],
      "source": [
        "import pandas as pd\n",
        "from dateutil.parser import parse \n",
        "import numpy as np\n",
        "import matplotlib.pyplot as plt\n",
        "import seaborn as sns"
      ]
    },
    {
      "cell_type": "code",
      "source": [
        "data= pd.read_csv(\"housing_in_london_monthly_variables.csv\", parse_dates=['date'])"
      ],
      "metadata": {
        "id": "S1ibmhYiLIBv"
      },
      "execution_count": null,
      "outputs": []
    },
    {
      "cell_type": "code",
      "source": [
        "# Changed date from a datetime to int type to help the regression model later on\n",
        "data['date'] = pd.to_numeric(pd.to_datetime(data['date']))\n",
        "\n"
      ],
      "metadata": {
        "id": "cYewZ4u6La2x"
      },
      "execution_count": null,
      "outputs": []
    },
    {
      "cell_type": "code",
      "source": [
        "data.info()"
      ],
      "metadata": {
        "id": "r-x71CecMz8J"
      },
      "execution_count": null,
      "outputs": []
    },
    {
      "cell_type": "code",
      "source": [
        "# The months which had no data on houses sold we presumed were0\n",
        "data['houses_sold'] = data['houses_sold'].fillna(0)"
      ],
      "metadata": {
        "id": "kKwuIUMnT3tb"
      },
      "execution_count": null,
      "outputs": []
    },
    {
      "cell_type": "code",
      "source": [
        "data.info()"
      ],
      "metadata": {
        "id": "VIMeDVczUTG_"
      },
      "execution_count": null,
      "outputs": []
    },
    {
      "cell_type": "code",
      "source": [
        "del data['borough_flag']\n",
        "del data['code']\n"
      ],
      "metadata": {
        "id": "DbRM7z74V17Q"
      },
      "execution_count": null,
      "outputs": []
    },
    {
      "cell_type": "code",
      "source": [
        "data.info()"
      ],
      "metadata": {
        "id": "xmekTXZMWDo0"
      },
      "execution_count": null,
      "outputs": []
    },
    {
      "cell_type": "code",
      "source": [
        "data.dropna(inplace=True)"
      ],
      "metadata": {
        "id": "8geDJkeLa5mH"
      },
      "execution_count": null,
      "outputs": []
    },
    {
      "cell_type": "code",
      "source": [
        "data.info()"
      ],
      "metadata": {
        "id": "tkzeDXVMa6Z8",
        "collapsed": true
      },
      "execution_count": null,
      "outputs": []
    },
    {
      "cell_type": "code",
      "source": [
        "# Want to split the data into training and testing data \n",
        "\n",
        "from sklearn.model_selection import train_test_split\n",
        "\n"
      ],
      "metadata": {
        "id": "yc3Ohwmmc8wh"
      },
      "execution_count": null,
      "outputs": []
    },
    {
      "cell_type": "code",
      "source": [
        "# Next we are going to split the into x and y, x without the target variable and y only the target variabke\n",
        "\n",
        "x = data.drop(['average_price'], axis=1)\n",
        "y = data['average_price']"
      ],
      "metadata": {
        "id": "zNpz7MBKsSB2"
      },
      "execution_count": null,
      "outputs": []
    },
    {
      "cell_type": "code",
      "source": [
        "X_train, X_test, y_train, y_test = train_test_split(x, y, test_size = 0.2)\n"
      ],
      "metadata": {
        "id": "_DPPqJ7GvPya"
      },
      "execution_count": null,
      "outputs": []
    },
    {
      "cell_type": "code",
      "source": [
        "# Visualisations of training data\n",
        "\n",
        "X_train.hist()"
      ],
      "metadata": {
        "id": "eoWjn7NGwm5e",
        "collapsed": true
      },
      "execution_count": null,
      "outputs": []
    },
    {
      "cell_type": "code",
      "source": [
        "X_train"
      ],
      "metadata": {
        "id": "2kLHtpJyyKWW",
        "collapsed": true
      },
      "execution_count": null,
      "outputs": []
    },
    {
      "cell_type": "code",
      "source": [
        "y_train.hist()"
      ],
      "metadata": {
        "id": "eafmpUOExVoU",
        "collapsed": true
      },
      "execution_count": null,
      "outputs": []
    },
    {
      "cell_type": "code",
      "source": [
        "y_train"
      ],
      "metadata": {
        "id": "Nps4NYPvyJcM"
      },
      "execution_count": null,
      "outputs": []
    },
    {
      "cell_type": "code",
      "source": [
        "from IPython.lib.display import join\n",
        "# Then we join the training data to so we can analyse any correlation\n",
        "\n",
        "TrainingData = X_train.join(y_train)"
      ],
      "metadata": {
        "id": "5auO-AKyy5PY"
      },
      "execution_count": null,
      "outputs": []
    },
    {
      "cell_type": "code",
      "source": [
        "TrainingData.corr()"
      ],
      "metadata": {
        "id": "brTRvP5wzSnL",
        "collapsed": true
      },
      "execution_count": null,
      "outputs": []
    },
    {
      "cell_type": "code",
      "source": [
        "# You have to add annot = True in order to see the numbers on the box\n",
        "sns.heatmap(TrainingData.corr(), annot = True, cmap =\"GnBu\")"
      ],
      "metadata": {
        "id": "j5WiQfeXiCDu",
        "collapsed": true
      },
      "execution_count": null,
      "outputs": []
    },
    {
      "cell_type": "code",
      "source": [
        "#Seperating the area variables, to be able to show a numerical valuation \n",
        "TrainingData = TrainingData.join(pd.get_dummies(TrainingData.area)).drop(['area'], axis = 1)\n"
      ],
      "metadata": {
        "id": "-hfPfCxph-Eo"
      },
      "execution_count": null,
      "outputs": []
    },
    {
      "cell_type": "code",
      "source": [
        "plt.figure(figsize=(30,15))\n",
        "sns.heatmap(TrainingData.corr(), annot = True, cmap =\"GnBu\")"
      ],
      "metadata": {
        "id": "6jsMsz8_h1hA",
        "collapsed": true
      },
      "execution_count": null,
      "outputs": []
    },
    {
      "cell_type": "code",
      "source": [
        "TrainingData.info()"
      ],
      "metadata": {
        "id": "hggKTd0yx7uR",
        "collapsed": true
      },
      "execution_count": null,
      "outputs": []
    },
    {
      "cell_type": "code",
      "source": [
        "# for extra data analysis added this variable \n",
        "TrainingData['crimes_per_house_sold'] = TrainingData['no_of_crimes'] / TrainingData['houses_sold']\n",
        "TrainingData =TrainingData[np.isfinite(TrainingData).all(1)]"
      ],
      "metadata": {
        "id": "oQ8N4UWExoz0"
      },
      "execution_count": null,
      "outputs": []
    },
    {
      "cell_type": "code",
      "source": [
        "#we can once again show a correlation heat map to show any relatioship with our new variable to our target variable\n",
        "plt.figure(figsize=(30,15))\n",
        "sns.heatmap(TrainingData.corr(), annot = True, cmap =\"GnBu\")"
      ],
      "metadata": {
        "id": "Zg_3Kpw6M4bI",
        "collapsed": true
      },
      "execution_count": null,
      "outputs": []
    },
    {
      "cell_type": "code",
      "execution_count": null,
      "metadata": {
        "id": "L08Gf8tMcCYp"
      },
      "outputs": [],
      "source": [
        "import plotly.express as px\n",
        "import seaborn as sns\n",
        "\n",
        "# Attempting to show latest average house price for each borough on a heatmap\n"
      ]
    },
    {
      "cell_type": "code",
      "source": [
        "data= pd.read_csv(\"BoroughAveragePrice.csv\",encoding='latin1')\n"
      ],
      "metadata": {
        "id": "7WgFknyscTBw"
      },
      "execution_count": null,
      "outputs": []
    },
    {
      "cell_type": "code",
      "source": [
        "fig = px.density_mapbox(data, lat='Latitude', lon='Longitude', z='Average house price',\n",
        "                        mapbox_style=\"stamen-terrain\")"
      ],
      "metadata": {
        "id": "YBS8iDL4hzpN"
      },
      "execution_count": null,
      "outputs": []
    },
    {
      "cell_type": "code",
      "source": [
        "fig"
      ],
      "metadata": {
        "id": "y_VCIBJ5lF1y",
        "collapsed": true
      },
      "execution_count": null,
      "outputs": []
    },
    {
      "cell_type": "code",
      "source": [
        "# the coordinateed for the city of London is 5111.5155 , 0.0922. This visual shows that house prices aren't directly correated to hw close they are to the city centre and the value of the are acould have other more influential factors\n",
        "sns.scatterplot(x ='Latitude', y = 'Longitude', data= data, hue='Average house price', palette='coolwarm')"
      ],
      "metadata": {
        "id": "tkRyKvXKll6c",
        "collapsed": true
      },
      "execution_count": null,
      "outputs": []
    },
    {
      "cell_type": "code",
      "source": [
        "from sklearn.linear_model import LinearRegression\n",
        "from sklearn.preprocessing import StandardScaler\n"
      ],
      "metadata": {
        "id": "7G8bnmQQZ5Re"
      },
      "execution_count": null,
      "outputs": []
    },
    {
      "cell_type": "code",
      "source": [
        "#Resetiing my indexex to avoid too big for float errorrs\n",
        "\n",
        "data = data.reset_index()\n",
        "\n"
      ],
      "metadata": {
        "id": "TmSRTbGmNnp0"
      },
      "execution_count": null,
      "outputs": []
    },
    {
      "cell_type": "code",
      "source": [
        "# Because we added an extra variable we have to add that to the training model \n",
        "\n",
        "\n",
        "X_train, y_train = TrainingData.drop(['average_price'], axis =1), TrainingData['average_price']\n",
        "\n",
        "\n",
        "\n",
        "# we need to initiaise and fit the model\n",
        "reg = LinearRegression()\n",
        "\n",
        "reg.fit(X_train,y_train) \n"
      ],
      "metadata": {
        "id": "oPaib5fkYdFe",
        "collapsed": true
      },
      "execution_count": null,
      "outputs": []
    },
    {
      "cell_type": "code",
      "source": [
        "# doing the same thing to test data like we did to training dat  \n",
        "TestingData = X_test.join(y_test)\n",
        "TestingData = TestingData.join(pd.get_dummies(TestingData.area)).drop(['area'], axis = 1)\n",
        "TestingData['crimes_per_house_sold'] = TestingData['no_of_crimes'] /TestingData['houses_sold']\n",
        "# Removing all infinte vauesas it ruins the model\n",
        "TestingData =TestingData[np.isfinite(TestingData).all(1)]\n"
      ],
      "metadata": {
        "id": "u0L8fXpeDamQ"
      },
      "execution_count": null,
      "outputs": []
    },
    {
      "cell_type": "code",
      "source": [
        "# Doing the same thing we did to the x_train y_train\n",
        "\n",
        "\n",
        "X_test, y_test = TestingData.drop(['average_price'], axis =1), TestingData['average_price']\n",
        "\n"
      ],
      "metadata": {
        "id": "JdyWYxyzeRGX"
      },
      "execution_count": null,
      "outputs": []
    },
    {
      "cell_type": "code",
      "source": [
        "X_test"
      ],
      "metadata": {
        "id": "AzcNUPfBzOXg"
      },
      "execution_count": null,
      "outputs": []
    },
    {
      "cell_type": "code",
      "source": [
        "reg.score(X_test, y_test)"
      ],
      "metadata": {
        "id": "W7MqsQEQ9vQK"
      },
      "execution_count": null,
      "outputs": []
    },
    {
      "cell_type": "code",
      "source": [
        "from sklearn.ensemble import RandomForestRegressor\n",
        "\n",
        "For = RandomForestRegressor()\n",
        "\n",
        "For.fit(X_train, y_train)"
      ],
      "metadata": {
        "id": "gFZyMy7y8d_m"
      },
      "execution_count": null,
      "outputs": []
    },
    {
      "cell_type": "code",
      "source": [
        "For.score(X_train, y_train)"
      ],
      "metadata": {
        "id": "deLKDtGS9E7i"
      },
      "execution_count": null,
      "outputs": []
    }
  ]
}